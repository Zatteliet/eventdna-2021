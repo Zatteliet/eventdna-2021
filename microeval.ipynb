{
 "cells": [
  {
   "cell_type": "markdown",
   "metadata": {},
   "source": [
    "# Micro-micro-avg scoring"
   ]
  },
  {
   "cell_type": "code",
   "execution_count": 8,
   "metadata": {},
   "outputs": [
    {
     "data": {
      "text/plain": [
       "6937"
      ]
     },
     "execution_count": 8,
     "metadata": {},
     "output_type": "execute_result"
    }
   ],
   "source": [
    "cm = {\"tp\": 2874, \"fp\": 575, \"fn\": 2235, \"tn\": 1253}\n",
    "\n",
    "g = []\n",
    "p = []\n",
    "for _ in range(cm['tp']):\n",
    "    g.append(1)\n",
    "    p.append(1)\n",
    "for _ in range(cm['fp']):\n",
    "    g.append(0)\n",
    "    p.append(1)\n",
    "for _ in range(cm['fn']):\n",
    "    g.append(1)\n",
    "    p.append(0)\n",
    "for _ in range(cm['tn']):\n",
    "    g.append(0)\n",
    "    p.append(0)\n",
    "\n",
    "len(g)"
   ]
  },
  {
   "cell_type": "code",
   "execution_count": 9,
   "metadata": {},
   "outputs": [
    {
     "name": "stdout",
     "output_type": "stream",
     "text": [
      "              precision    recall  f1-score   support\n",
      "\n",
      "           0       0.36      0.69      0.47      1828\n",
      "           1       0.83      0.56      0.67      5109\n",
      "\n",
      "    accuracy                           0.59      6937\n",
      "   macro avg       0.60      0.62      0.57      6937\n",
      "weighted avg       0.71      0.59      0.62      6937\n",
      "\n"
     ]
    }
   ],
   "source": [
    "from sklearn.metrics import classification_report\n",
    "\n",
    "print(classification_report(g, p))"
   ]
  }
 ],
 "metadata": {
  "kernelspec": {
   "display_name": "Python 3.9.4 64-bit ('eventdna')",
   "language": "python",
   "name": "python3"
  },
  "language_info": {
   "codemirror_mode": {
    "name": "ipython",
    "version": 3
   },
   "file_extension": ".py",
   "mimetype": "text/x-python",
   "name": "python",
   "nbconvert_exporter": "python",
   "pygments_lexer": "ipython3",
   "version": "3.9.4"
  },
  "orig_nbformat": 4,
  "vscode": {
   "interpreter": {
    "hash": "0a577c604803e8744cf1fa272ce48fcbff6aa34b163f75c9ad69a6ebd10f7d44"
   }
  }
 },
 "nbformat": 4,
 "nbformat_minor": 2
}
